{
 "cells": [
  {
   "cell_type": "code",
   "execution_count": 5,
   "metadata": {},
   "outputs": [],
   "source": [
    "# imports\n",
    "import pandas as pd\n",
    "import requests"
   ]
  },
  {
   "cell_type": "code",
   "execution_count": 4,
   "metadata": {},
   "outputs": [
    {
     "data": {
      "text/html": [
       "<div>\n",
       "<style scoped>\n",
       "    .dataframe tbody tr th:only-of-type {\n",
       "        vertical-align: middle;\n",
       "    }\n",
       "\n",
       "    .dataframe tbody tr th {\n",
       "        vertical-align: top;\n",
       "    }\n",
       "\n",
       "    .dataframe thead th {\n",
       "        text-align: right;\n",
       "    }\n",
       "</style>\n",
       "<table border=\"1\" class=\"dataframe\">\n",
       "  <thead>\n",
       "    <tr style=\"text-align: right;\">\n",
       "      <th></th>\n",
       "      <th>Date</th>\n",
       "      <th>Name</th>\n",
       "      <th>Year</th>\n",
       "      <th>Letterboxd URI</th>\n",
       "      <th>Rating</th>\n",
       "    </tr>\n",
       "  </thead>\n",
       "  <tbody>\n",
       "    <tr>\n",
       "      <th>0</th>\n",
       "      <td>2017-11-19</td>\n",
       "      <td>Aliens</td>\n",
       "      <td>1986</td>\n",
       "      <td>https://boxd.it/29PA</td>\n",
       "      <td>4.0</td>\n",
       "    </tr>\n",
       "    <tr>\n",
       "      <th>1</th>\n",
       "      <td>2017-12-09</td>\n",
       "      <td>The Edge of Seventeen</td>\n",
       "      <td>2016</td>\n",
       "      <td>https://boxd.it/d5nu</td>\n",
       "      <td>3.5</td>\n",
       "    </tr>\n",
       "    <tr>\n",
       "      <th>2</th>\n",
       "      <td>2017-12-10</td>\n",
       "      <td>The Meyerowitz Stories (New and Selected)</td>\n",
       "      <td>2017</td>\n",
       "      <td>https://boxd.it/dSp0</td>\n",
       "      <td>3.0</td>\n",
       "    </tr>\n",
       "    <tr>\n",
       "      <th>3</th>\n",
       "      <td>2017-12-10</td>\n",
       "      <td>Before Midnight</td>\n",
       "      <td>2013</td>\n",
       "      <td>https://boxd.it/4ive</td>\n",
       "      <td>5.0</td>\n",
       "    </tr>\n",
       "    <tr>\n",
       "      <th>4</th>\n",
       "      <td>2017-12-11</td>\n",
       "      <td>Don't Think Twice</td>\n",
       "      <td>2016</td>\n",
       "      <td>https://boxd.it/c3W6</td>\n",
       "      <td>5.0</td>\n",
       "    </tr>\n",
       "  </tbody>\n",
       "</table>\n",
       "</div>"
      ],
      "text/plain": [
       "         Date                                       Name  Year  \\\n",
       "0  2017-11-19                                     Aliens  1986   \n",
       "1  2017-12-09                      The Edge of Seventeen  2016   \n",
       "2  2017-12-10  The Meyerowitz Stories (New and Selected)  2017   \n",
       "3  2017-12-10                            Before Midnight  2013   \n",
       "4  2017-12-11                          Don't Think Twice  2016   \n",
       "\n",
       "         Letterboxd URI  Rating  \n",
       "0  https://boxd.it/29PA     4.0  \n",
       "1  https://boxd.it/d5nu     3.5  \n",
       "2  https://boxd.it/dSp0     3.0  \n",
       "3  https://boxd.it/4ive     5.0  \n",
       "4  https://boxd.it/c3W6     5.0  "
      ]
     },
     "execution_count": 4,
     "metadata": {},
     "output_type": "execute_result"
    }
   ],
   "source": [
    "ratings = pd.read_csv('./ratings.csv')\n",
    "ratings.head()"
   ]
  },
  {
   "cell_type": "code",
   "execution_count": 23,
   "metadata": {},
   "outputs": [],
   "source": [
    "def get_runtime_in_minutes(title=None, year=None):\n",
    "    url = \"\"\n",
    "    url = f'http://www.omdbapi.com/?t={title}&y={year}&apikey=790d012d'\n",
    "    r = requests.get(url).json()\n",
    "    if 'Runtime' in r:\n",
    "        runtime = int(r['Runtime'].split(\" \")[0])\n",
    "    else:\n",
    "        runtime = None\n",
    "    # print(runtime)\n",
    "    return runtime\n"
   ]
  },
  {
   "cell_type": "code",
   "execution_count": 24,
   "metadata": {},
   "outputs": [
    {
     "name": "stdout",
     "output_type": "stream",
     "text": [
      "0      137.0\n",
      "1      104.0\n",
      "2      112.0\n",
      "3      109.0\n",
      "4       92.0\n",
      "       ...  \n",
      "431    152.0\n",
      "432     82.0\n",
      "433    144.0\n",
      "434    137.0\n",
      "435    133.0\n",
      "Length: 436, dtype: float64\n"
     ]
    }
   ],
   "source": [
    "runtimes = pd.Series([\n",
    "    get_runtime_in_minutes(title, year) for (title, year) in zip(ratings['Name'], ratings['Year'])\n",
    "])\n",
    "\n",
    "print(runtimes)\n",
    "\n",
    "\n",
    "# def list_impl(df):\n",
    "#   cutoff_date = datetime.date.today() + datetime.timedelta(days=2)\n",
    "#   return pd.Series([\n",
    "#       eisenhower_action(priority == 'HIGH', due_date <= cutoff_date)\n",
    "#       for (priority, due_date) in zip(df['priority'], df['due_date'])\n",
    "#   ])\n"
   ]
  },
  {
   "cell_type": "code",
   "execution_count": 25,
   "metadata": {},
   "outputs": [],
   "source": [
    "ratings['Runtimes'] = runtimes"
   ]
  },
  {
   "cell_type": "code",
   "execution_count": 32,
   "metadata": {},
   "outputs": [
    {
     "data": {
      "text/html": [
       "<div>\n",
       "<style scoped>\n",
       "    .dataframe tbody tr th:only-of-type {\n",
       "        vertical-align: middle;\n",
       "    }\n",
       "\n",
       "    .dataframe tbody tr th {\n",
       "        vertical-align: top;\n",
       "    }\n",
       "\n",
       "    .dataframe thead th {\n",
       "        text-align: right;\n",
       "    }\n",
       "</style>\n",
       "<table border=\"1\" class=\"dataframe\">\n",
       "  <thead>\n",
       "    <tr style=\"text-align: right;\">\n",
       "      <th></th>\n",
       "      <th>Date</th>\n",
       "      <th>Name</th>\n",
       "      <th>Year</th>\n",
       "      <th>Letterboxd URI</th>\n",
       "      <th>Rating</th>\n",
       "      <th>Runtimes</th>\n",
       "    </tr>\n",
       "  </thead>\n",
       "  <tbody>\n",
       "  </tbody>\n",
       "</table>\n",
       "</div>"
      ],
      "text/plain": [
       "Empty DataFrame\n",
       "Columns: [Date, Name, Year, Letterboxd URI, Rating, Runtimes]\n",
       "Index: []"
      ]
     },
     "execution_count": 32,
     "metadata": {},
     "output_type": "execute_result"
    }
   ],
   "source": [
    "\n",
    "ratings.loc[ratings['Runtimes'] == None]\n"
   ]
  },
  {
   "cell_type": "code",
   "execution_count": 26,
   "metadata": {},
   "outputs": [
    {
     "data": {
      "text/plain": [
       "112.37971698113208"
      ]
     },
     "execution_count": 26,
     "metadata": {},
     "output_type": "execute_result"
    }
   ],
   "source": [
    "ratings.Runtimes.mean()"
   ]
  },
  {
   "cell_type": "code",
   "execution_count": 29,
   "metadata": {},
   "outputs": [
    {
     "name": "stdout",
     "output_type": "stream",
     "text": [
      "119.97560975609755\n"
     ]
    }
   ],
   "source": [
    "five_stars = ratings['Rating'] == 5\n",
    "mean_five_stars = ratings.loc[five_stars, 'Runtimes'].mean()\n",
    "print(mean_five_stars)\n"
   ]
  },
  {
   "cell_type": "code",
   "execution_count": 30,
   "metadata": {},
   "outputs": [
    {
     "name": "stdout",
     "output_type": "stream",
     "text": [
      "113.7295918367347\n"
     ]
    }
   ],
   "source": [
    "# Four stars and up\n",
    "\n",
    "four_stars = ratings['Rating'] >= 4\n",
    "mean_four_stars = ratings.loc[four_stars, 'Runtimes'].mean()\n",
    "print(mean_four_stars)\n"
   ]
  },
  {
   "cell_type": "code",
   "execution_count": 33,
   "metadata": {},
   "outputs": [
    {
     "name": "stdout",
     "output_type": "stream",
     "text": [
      "111.67948717948718\n"
     ]
    }
   ],
   "source": [
    "\n",
    "two_stars = ratings['Rating'] <= 2\n",
    "mean_two_stars = ratings.loc[two_stars, 'Runtimes'].mean()\n",
    "print(mean_two_stars)\n"
   ]
  }
 ],
 "metadata": {
  "interpreter": {
   "hash": "aee8b7b246df8f9039afb4144a1f6fd8d2ca17a180786b69acc140d282b71a49"
  },
  "kernelspec": {
   "display_name": "Python 3.9.5 64-bit",
   "language": "python",
   "name": "python3"
  },
  "language_info": {
   "codemirror_mode": {
    "name": "ipython",
    "version": 3
   },
   "file_extension": ".py",
   "mimetype": "text/x-python",
   "name": "python",
   "nbconvert_exporter": "python",
   "pygments_lexer": "ipython3",
   "version": "3.9.5"
  },
  "orig_nbformat": 4
 },
 "nbformat": 4,
 "nbformat_minor": 2
}
